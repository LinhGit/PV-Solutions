{
 "cells": [
  {
   "cell_type": "markdown",
   "metadata": {},
   "source": [
    "### common.py"
   ]
  },
  {
   "cell_type": "code",
   "execution_count": 71,
   "metadata": {},
   "outputs": [],
   "source": [
    "import unittest\n",
    "import numpy as np\n",
    "import cv2\n",
    "from hypothesis import given\n",
    "import hypothesis.strategies as some\n",
    "import hypothesis.extra.numpy as some_np\n",
    "\n",
    "from extractor.common import contour_and_convex_hull, \\\n",
    "    compute_mask_center, sort_cw\n",
    "\n",
    "convex_hull_gt = np.array([\n",
    "    [[499, 324]], \n",
    "    [[498, 325]],\n",
    "    [[488, 326]],\n",
    "    [[476, 326]],\n",
    "    [[442, 324]],\n",
    "    [[423, 322]],\n",
    "    [[422, 321]],\n",
    "    [[421, 319]],\n",
    "    [[421, 316]],\n",
    "    [[424, 281]],\n",
    "    [[425, 280]],\n",
    "    [[427, 279]],\n",
    "    [[436, 279]],\n",
    "    [[491, 280]],\n",
    "    [[495, 281]],\n",
    "    [[496, 282]],\n",
    "    [[497, 287]],\n",
    "    [[499, 300]]\n",
    "], dtype=np.int32)\n",
    "\n",
    "contour_gt = np.array([\n",
    "    [[427, 279]],\n",
    "    [[426, 280]],\n",
    "    [[425, 280]],\n",
    "    [[424, 281]],\n",
    "    [[424, 296]],\n",
    "    [[423, 297]],\n",
    "    [[423, 304]],\n",
    "    [[422, 305]],\n",
    "    [[422, 315]],\n",
    "    [[421, 316]],\n",
    "    [[421, 319]],\n",
    "    [[422, 320]],\n",
    "    [[422, 321]],\n",
    "    [[423, 322]],\n",
    "    [[439, 322]],\n",
    "    [[440, 323]],\n",
    "    [[441, 323]],\n",
    "    [[442, 324]],\n",
    "    [[459, 324]],\n",
    "    [[460, 325]],\n",
    "    [[475, 325]],\n",
    "    [[476, 326]],\n",
    "    [[488, 326]],\n",
    "    [[489, 325]],\n",
    "    [[498, 325]],\n",
    "    [[499, 324]],\n",
    "    [[499, 300]],\n",
    "    [[498, 299]],\n",
    "    [[498, 296]],\n",
    "    [[497, 295]],\n",
    "    [[497, 287]],\n",
    "    [[496, 286]],\n",
    "    [[496, 282]],\n",
    "    [[495, 281]],\n",
    "    [[492, 281]],\n",
    "    [[491, 280]],\n",
    "    [[437, 280]],\n",
    "    [[436, 279]]\n",
    "], dtype=np.int32)\n",
    "\n",
    "class TestCommon(unittest.TestCase):\n",
    "    \n",
    "    def test_sort_cw(self):\n",
    "        pts = np.array([\n",
    "            [[0., 0.]],\n",
    "            [[0., 0.]],\n",
    "            [[0., 0.]],\n",
    "            [[0., 0.]]\n",
    "        ])\n",
    "        self.assertTrue(np.allclose(sort_cw(pts), pts))\n",
    "        \n",
    "        pts = np.array([\n",
    "            [[1., 0.]],\n",
    "            [[1., 1.]],\n",
    "            [[0., 0.]],\n",
    "            [[0., 1.]]\n",
    "        ])\n",
    "        pts_sorted = np.array([\n",
    "            [0., 0.],\n",
    "            [1., 0.],\n",
    "            [1., 1.],\n",
    "            [0., 1.]\n",
    "        ])\n",
    "        self.assertTrue(np.allclose(sort_cw(pts), pts_sorted))\n",
    "        \n",
    "        pts = np.array([\n",
    "            [[0., 1.]],\n",
    "            [[1., 1.]],\n",
    "            [[1., 0.]],\n",
    "            [[0., 0.]]\n",
    "        ])\n",
    "        pts_sorted = np.array([\n",
    "            [0., 0.],\n",
    "            [1., 0.],\n",
    "            [1., 1.],\n",
    "            [0., 1.]\n",
    "        ])\n",
    "        self.assertTrue(np.allclose(sort_cw(pts), pts_sorted))\n",
    "        \n",
    "        pts = np.array([\n",
    "            [[550.94701019,  63.73629146]],\n",
    "            [[588.31014706,  58.91243193]],\n",
    "            [[203.31004274, 989.78343506]],\n",
    "            [[277.23160467, 699.42132832]]\n",
    "        ])\n",
    "        pts_sorted = np.array([\n",
    "            [277.23160467, 699.42132832],\n",
    "            [588.31014706,  58.91243193],\n",
    "            [550.94701019,  63.73629146],\n",
    "            [203.31004274, 989.78343506]\n",
    "        ])\n",
    "        self.assertTrue(np.allclose(sort_cw(pts), pts_sorted))\n",
    "        \n",
    "        pts = np.array([\n",
    "            [[100.,  100.]],\n",
    "            [[100.,  100.]],\n",
    "            [[100.,  100.]],\n",
    "            [[100.,  100.]]\n",
    "        ])\n",
    "        pts_sorted = np.array([\n",
    "            [100.,  100.],\n",
    "            [100.,  100.],\n",
    "            [100.,  100.],\n",
    "            [100.,  100.]\n",
    "        ])\n",
    "        self.assertTrue(np.allclose(sort_cw(pts), pts_sorted))\n",
    "        \n",
    "    def test_contour_and_convex_hull(self):\n",
    "        mask_file = \"tests/data/small/segmented/masks/frame_000000/mask_000000.png\"\n",
    "        mask = cv2.imread(mask_file, cv2.IMREAD_ANYDEPTH)\n",
    "        convex_hull, contour = contour_and_convex_hull(mask)\n",
    "        \n",
    "        self.assertEqual(convex_hull.dtype, convex_hull_gt.dtype)\n",
    "        self.assertEqual(contour.dtype, contour_gt.dtype)\n",
    "        self.assertTrue(np.all(convex_hull == convex_hull_gt))\n",
    "        self.assertTrue(np.all(contour == contour_gt))\n",
    "    \n",
    "    def test_compute_mask_center(self):\n",
    "        center = compute_mask_center(convex_hull_gt, contour_gt, method=1)\n",
    "        self.assertTrue(np.allclose(center, (460.95042812077514, 302.4197085774373)))\n",
    "        \n",
    "        center = compute_mask_center(convex_hull_gt, contour_gt, method=0)\n",
    "        self.assertTrue(np.allclose(center, (461.18243408203125, 303.0538635253906)))"
   ]
  },
  {
   "cell_type": "code",
   "execution_count": 72,
   "metadata": {
    "tags": []
   },
   "outputs": [],
   "source": [
    "t = TestCommon()\n",
    "t.test_sort_cw()\n",
    "t.test_compute_mask_center()\n",
    "t.test_contour_and_convex_hull()"
   ]
  },
  {
   "cell_type": "code",
   "execution_count": 58,
   "metadata": {},
   "outputs": [
    {
     "data": {
      "text/plain": [
       "<matplotlib.collections.PathCollection at 0x7f5a182164e0>"
      ]
     },
     "execution_count": 58,
     "metadata": {},
     "output_type": "execute_result"
    },
    {
     "data": {
      "image/png": "[encoded data removed]",
      "text/plain": [
       "<Figure size 432x288 with 1 Axes>"
      ]
     },
     "metadata": {
      "needs_background": "light"
     },
     "output_type": "display_data"
    }
   ],
   "source": [
    "contour_gt = contour_gt.reshape(-1, 2)\n",
    "plt.scatter(contour_gt[:, 0], contour_gt[:, 1])"
   ]
  },
  {
   "cell_type": "markdown",
   "metadata": {},
   "source": [
    "### quadrilaterals.py"
   ]
  },
  {
   "cell_type": "code",
   "execution_count": 72,
   "metadata": {},
   "outputs": [
    {
     "data": {
      "text/plain": [
       "(0, 1, 1)"
      ]
     },
     "execution_count": 72,
     "metadata": {},
     "output_type": "execute_result"
    }
   ],
   "source": [
    "line([0, 1], [1, 1])"
   ]
  },
  {
   "cell_type": "code",
   "execution_count": 77,
   "metadata": {},
   "outputs": [],
   "source": [
    "import unittest\n",
    "import numpy as np\n",
    "#from hypothesis import given\n",
    "#import hypothesis.strategies as some\n",
    "#import hypothesis.extra.numpy as some_np\n",
    "\n",
    "from extractor.quadrilaterals import line_intersection, \\\n",
    "    line, find_enclosing_polygon, compute_iou\n",
    "\n",
    "class TestQuadrilaterals(unittest.TestCase):\n",
    "    \n",
    "    def test_line(self):\n",
    "        self.assertEqual(line([0, 0], [1, 1]), (-1, 1, 0))\n",
    "        self.assertEqual(line([0, 1], [1, 0]), (1, 1, 1))\n",
    "        self.assertEqual(line([0, 0], [-1, -1]), (1, -1, 0))\n",
    "    \n",
    "    def test_line_intersection(self):\n",
    "        # intersecting lines\n",
    "        l1 = (-1, 1, 0) # line([0, 0], [1, 1])\n",
    "        l2 = (1, 1, 1) # line([0, 1], [1, 0])\n",
    "        has_intersect, intersect_pt = line_intersection(l1, l2)\n",
    "        self.assertTrue(has_intersect)\n",
    "        self.assertEqual(intersect_pt, (0.5, 0.5))\n",
    "        \n",
    "        # intersecting lines 2\n",
    "        l1 = (1, -1, 0) # line([0, 0], [-1, -1])\n",
    "        l2 = (1, 1, 1) # line([0, 1], [1, 0])\n",
    "        has_intersect, intersect_pt = line_intersection(l1, l2)\n",
    "        self.assertTrue(has_intersect)\n",
    "        self.assertEqual(intersect_pt, (0.5, 0.5))\n",
    "        \n",
    "        # colinear lines\n",
    "        l1 = (-1, 1, 0) # line([0, 0], [1, 1])\n",
    "        l2 = (-1, 1, 0) # line([1, 1], [2, 2])\n",
    "        has_intersect, intersect_pt = line_intersection(l1, l2)\n",
    "        self.assertFalse(has_intersect)\n",
    "        self.assertEqual(intersect_pt, (0.0, 0.0))\n",
    "        \n",
    "        # parallel lines\n",
    "        l1 = (0, 1, 0) # line([0, 0], [1, 0])\n",
    "        l2 = (0, 1, 1) # line([0, 1], [1, 1])\n",
    "        has_intersect, intersect_pt = line_intersection(l1, l2)\n",
    "        self.assertFalse(has_intersect)\n",
    "        self.assertEqual(intersect_pt, (0.0, 0.0))\n",
    "    \n",
    "    def test_compute_iou(self):\n",
    "        pass\n",
    "    \n",
    "    def test_find_enclosing_polygon(self):\n",
    "        pass\n",
    "        "
   ]
  },
  {
   "cell_type": "code",
   "execution_count": 78,
   "metadata": {},
   "outputs": [],
   "source": [
    "t = TestQuadrilaterals()\n",
    "t.test_line()\n",
    "t.test_line_intersection()\n",
    "t.test_compute_iou()\n",
    "t.test_find_enclosing_polygon()"
   ]
  },
  {
   "cell_type": "code",
   "execution_count": null,
   "metadata": {},
   "outputs": [],
   "source": []
  }
 ],
 "metadata": {
  "kernelspec": {
   "display_name": "Python 3",
   "language": "python",
   "name": "python3"
  },
  "language_info": {
   "codemirror_mode": {
    "name": "ipython",
    "version": 3
   },
   "file_extension": ".py",
   "mimetype": "text/x-python",
   "name": "python",
   "nbconvert_exporter": "python",
   "pygments_lexer": "ipython3",
   "version": "3.6.9"
  }
 },
 "nbformat": 4,
 "nbformat_minor": 4
}
