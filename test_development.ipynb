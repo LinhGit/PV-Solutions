{
 "cells": [
  {
   "cell_type": "markdown",
   "metadata": {},
   "source": [
    "### gps.py"
   ]
  },
  {
   "cell_type": "code",
   "execution_count": 14,
   "metadata": {},
   "outputs": [],
   "source": [
    "import unittest\n",
    "import numpy as np\n",
    "from hypothesis import given\n",
    "import hypothesis.strategies as some\n",
    "import hypothesis.extra.numpy as some_np\n",
    "\n",
    "from extractor.gps import gps_to_ltp, gps_from_ltp, interpolate_gps\n",
    "\n",
    "\n",
    "class TestGps(unittest.TestCase):\n",
    "    \n",
    "    @given(\n",
    "        some_np.arrays(\n",
    "            dtype=np.float, \n",
    "            shape=some.tuples(\n",
    "                some.integers(min_value=1, max_value=5), \n",
    "                some.integers(min_value=3, max_value=3)\n",
    "            ), \n",
    "            elements=some.floats(-90, 90)\n",
    "        )\n",
    "    )\n",
    "    def test_gps_to_ltp_consistency(self, gps):\n",
    "        \n",
    "        gps_ltp, origin = gps_to_ltp(gps)\n",
    "        gps_recovered = gps_from_ltp(gps_ltp, origin)\n",
    "\n",
    "        self.assertTrue(np.allclose((gps[0, 1], gps[0, 0], gps[0, 2]), origin))\n",
    "        self.assertTrue(np.allclose(gps, gps_recovered))\n",
    "        \n",
    "    def test_gps_interpolation(self):\n",
    "        gps = np.array([\n",
    "            [10., 10., 10.], \n",
    "            [10., 10., 10.], \n",
    "            [10., 10., 10.],\n",
    "            [10., 10., 10.],\n",
    "            [12., 15.,  8.],\n",
    "            [12., 15.,  8.],\n",
    "            [12., 15.,  8.],\n",
    "            [12., 15.,  8.],\n",
    "            [15., 20.,  5.],\n",
    "            [15., 20.,  5.],\n",
    "            [15., 20.,  5.],\n",
    "            [15., 20.,  5.],\n",
    "            [20., 25., 10.],\n",
    "            [20., 25., 10.],\n",
    "            [20., 25., 10.],\n",
    "            [20., 25., 10.]\n",
    "        ])\n",
    "\n",
    "        gps_interpolated_gt = np.array([\n",
    "            [10.  , 10.  , 10.  ],\n",
    "            [10.5 , 11.25,  9.5 ],\n",
    "            [11.  , 12.5 ,  9.  ],\n",
    "            [11.5 , 13.75,  8.5 ],\n",
    "            [12.  , 15.  ,  8.  ],\n",
    "            [12.75, 16.25,  7.25],\n",
    "            [13.5 , 17.5 ,  6.5 ],\n",
    "            [14.25, 18.75,  5.75],\n",
    "            [15.  , 20.  ,  5.  ],\n",
    "            [16.25, 21.25,  6.25],\n",
    "            [17.5 , 22.5 ,  7.5 ],\n",
    "            [18.75, 23.75,  8.75],\n",
    "            [20.  , 25.  , 10.  ],\n",
    "            [20.  , 25.  , 10.  ],\n",
    "            [20.  , 25.  , 10.  ],\n",
    "            [20.  , 25.  , 10.  ]\n",
    "        ])\n",
    "        \n",
    "        gps_interpolated = interpolate_gps(gps)\n",
    "        \n",
    "        self.assertTrue(np.allclose(gps_interpolated_gt, gps_interpolated))"
   ]
  },
  {
   "cell_type": "code",
   "execution_count": 15,
   "metadata": {
    "tags": []
   },
   "outputs": [],
   "source": [
    "t = TestGps()\n",
    "t.test_gps_to_ltp_consistency()"
   ]
  },
  {
   "cell_type": "code",
   "execution_count": null,
   "metadata": {},
   "outputs": [],
   "source": []
  }
 ],
 "metadata": {
  "kernelspec": {
   "display_name": "Python 3",
   "language": "python",
   "name": "python3"
  },
  "language_info": {
   "codemirror_mode": {
    "name": "ipython",
    "version": 3
   },
   "file_extension": ".py",
   "mimetype": "text/x-python",
   "name": "python",
   "nbconvert_exporter": "python",
   "pygments_lexer": "ipython3",
   "version": "3.6.9"
  }
 },
 "nbformat": 4,
 "nbformat_minor": 4
}
